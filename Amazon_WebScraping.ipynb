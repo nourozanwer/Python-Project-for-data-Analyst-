{
 "cells": [
  {
   "cell_type": "code",
   "execution_count": 2,
   "id": "01655b8b-5b42-4287-803f-09af5ced3599",
   "metadata": {},
   "outputs": [],
   "source": [
    "#import libary\n",
    "from bs4 import BeautifulSoup\n",
    "import requests \n",
    "import time\n",
    "import datetime\n",
    "\n",
    "import smtplib\n",
    "\n",
    " "
   ]
  },
  {
   "cell_type": "code",
   "execution_count": null,
   "id": "ba96ba96-ff8b-44d5-97ff-39ca5c65ebaa",
   "metadata": {},
   "outputs": [],
   "source": [
    "#connect websit\n",
    "URL = 'https://www.amazon.com/Portable-Mechanical-Keyboard-MageGee-Backlit/dp/B098LG3N6R/ref=sr_1_1?_encoding=UTF8&content-id=amzn1.sym.12129333-2117-4490-9c17-6d31baf0582a&dib=eyJ2IjoiMSJ9.xPISJOYMxoc_9dHbx858fxwpXnhNZrtv8JW5ZP3BaCgSlrrRBWtjn8T4-CexKzAYezh0P1ulPovAG3-T884521AYRVM5rVh7BweOkmXP1O3-H6sBgLQ8FX71X_cZeu29UqVsCpppp4swr9Q0b_qhcy7ng0L_tyhzMcddjoY0GoCkONODQ5t1xF6SYL727xsoNt71JxtZCXlU-gIk6W2Aiw_mqpyRlXWqZJZK775b-P0.uqEFwcnmLWFN9NSrn8AnVoV4WcWGPpUh77EazxGaKH4&dib_tag=se&keywords=gaming+keyboard&pd_rd_r=0de2f27b-f88b-4703-b034-009799263708&pd_rd_w=cJdFh&pd_rd_wg=KLwJa&pf_rd_p=12129333-2117-4490-9c17-6d31baf0582a&pf_rd_r=VMHMTT4KM766CXF4NJ34&qid=1719580272&sr=8-1'\n",
    "\n",
    "headers = {\"User-Agent\":\"Google Chorme/5.0(Windows NT 10.0;win64;64) AppleWebKit/537.36(KHTML,like Gecko)Chorme/78.0.3904.108\"}\n",
    "page = requests.get(URL,headers=headers)\n",
    "soup1 = BeautifulSoup(page.content,\"html.parser\")\n",
    "soup2 = BeautifulSoup(soup1.prettify(),\"html.parser\")\n",
    "\n",
    "title = soup2.find(id='productTitle').get_text()\n",
    "price = soup2.find(id='priceblock_ourprice').get_text()\n",
    "\n",
    "\n",
    "print(title)\n",
    "print(price)\n",
    "\n",
    "\n",
    "\n",
    "\n"
   ]
  },
  {
   "cell_type": "code",
   "execution_count": null,
   "id": "7e00f132-2ab1-4ab8-b00f-a8bac6d4f9bd",
   "metadata": {},
   "outputs": [],
   "source": [
    "price= price.strip()[1:]\n",
    "title= title.strip()"
   ]
  },
  {
   "cell_type": "code",
   "execution_count": 3,
   "id": "111fbe7c-457f-4047-854f-245c174b1a8e",
   "metadata": {},
   "outputs": [
    {
     "name": "stdout",
     "output_type": "stream",
     "text": [
      "2024-06-28\n"
     ]
    }
   ],
   "source": [
    "import datetime\n",
    "today = datetime.date.today()\n",
    "print(today)"
   ]
  },
  {
   "cell_type": "code",
   "execution_count": null,
   "id": "e192b453-433c-49b3-ba02-a2bebcb08877",
   "metadata": {},
   "outputs": [],
   "source": [
    "import csv \n",
    "\n",
    "header = ['Title', 'Price','Date']\n",
    "data = [title, price,today]\n",
    "with open('AmazonFileData.csv','W', newline='', encoding='UTTF')as f: \n",
    "    writer= csv.writter(f)\n",
    "    writer.writerow(header)\n",
    "    writer.writerow(data)\n",
    "    \n",
    "    \n",
    "#type(data)\n"
   ]
  },
  {
   "cell_type": "code",
   "execution_count": null,
   "id": "3181d1cc-6715-4add-96df-8d7b1cb309b1",
   "metadata": {},
   "outputs": [],
   "source": [
    "import pandas as pd\n",
    "df = pd.read_csv(r'\\.csv')\n",
    "print(df)\n"
   ]
  },
  {
   "cell_type": "code",
   "execution_count": null,
   "id": "e61c6150-1b96-40c5-8f19-930efb02237b",
   "metadata": {},
   "outputs": [],
   "source": [
    "#Now we ar appending data in CSV \n",
    "with open('AmazonFileData.csv','a+', newline='', encoding='UTTF')as f: \n",
    "    writer= csv.writter(f)\n",
    "    writer.writerow(data)\n",
    "    "
   ]
  },
  {
   "cell_type": "code",
   "execution_count": null,
   "id": "b6ae799b-2066-43cf-a9ab-7a506115ba65",
   "metadata": {},
   "outputs": [],
   "source": [
    "def check_price():\n",
    "    #connect websit\n",
    "    URL = 'https://www.amazon.com/Portable-Mechanical-Keyboard-MageGee-Backlit/dp/B098LG3N6R/ref=sr_1_1?_encoding=UTF8&content-id=amzn1.sym.12129333-2117-4490-9c17-6d31baf0582a&dib=eyJ2IjoiMSJ9.xPISJOYMxoc_9dHbx858fxwpXnhNZrtv8JW5ZP3BaCgSlrrRBWtjn8T4-CexKzAYezh0P1ulPovAG3-T884521AYRVM5rVh7BweOkmXP1O3-H6sBgLQ8FX71X_cZeu29UqVsCpppp4swr9Q0b_qhcy7ng0L_tyhzMcddjoY0GoCkONODQ5t1xF6SYL727xsoNt71JxtZCXlU-gIk6W2Aiw_mqpyRlXWqZJZK775b-P0.uqEFwcnmLWFN9NSrn8AnVoV4WcWGPpUh77EazxGaKH4&dib_tag=se&keywords=gaming+keyboard&pd_rd_r=0de2f27b-f88b-4703-b034-009799263708&pd_rd_w=cJdFh&pd_rd_wg=KLwJa&pf_rd_p=12129333-2117-4490-9c17-6d31baf0582a&pf_rd_r=VMHMTT4KM766CXF4NJ34&qid=1719580272&sr=8-1'\n",
    "\n",
    "    headers = {\"User-Agent\":\"Google Chorme/5.0(Windows NT 10.0;win64;64) AppleWebKit/537.36(KHTML,like Gecko)Chorme/78.0.3904.108\"}\n",
    "    page = requests.get(URL,headers=headers)\n",
    "    soup1 = BeautifulSoup(page.content,\"html.parser\")\n",
    "    soup2 = BeautifulSoup(soup1.prettify(),\"html.parser\")\n",
    "\n",
    "    title = soup2.find(id='productTitle').get_text()\n",
    "    price = soup2.find(id='priceblock_ourprice').get_text()\n",
    "\n",
    "    import datetime\n",
    "    today = datetime.date.today()\n",
    "\n",
    "    import csv \n",
    "\n",
    "    header = ['Title', 'Price','Date']\n",
    "    data = [title, price,today]\n",
    "    with open('AmazonFileData.csv','W', newline='', encoding='UTTF')as f: \n",
    "    writer= csv.writter(f)\n",
    "    writer.writerow(data)\n",
    "\n",
    "print(title)\n",
    "print(price)\n",
    "\n",
    "\n",
    "\n",
    "\n"
   ]
  },
  {
   "cell_type": "code",
   "execution_count": null,
   "id": "b22dd2b2-bc5f-4c87-a0b1-86cbb12e0071",
   "metadata": {},
   "outputs": [],
   "source": [
    "while(True):\n",
    "    check_price()\n",
    "    time.sleep(5)"
   ]
  },
  {
   "cell_type": "code",
   "execution_count": null,
   "id": "545f6313-3280-49c3-be0e-112d927dab74",
   "metadata": {},
   "outputs": [],
   "source": [
    "import pandas as pd\n",
    "df = pd.read_csv(r'\\.csv')\n",
    "print(df)\n"
   ]
  },
  {
   "cell_type": "code",
   "execution_count": 7,
   "id": "dd2ab007-7dee-4514-adb0-a9f32c25912f",
   "metadata": {},
   "outputs": [],
   "source": [
    "#sending Emails\n",
    "\n",
    "def send_mail():\n",
    "    server = smtplib.SMTP_SSL('smtp.google.com',465)\n",
    "    server.ehlo()\n",
    "    #server.staettls()\n",
    "    server.ehlo()\n",
    "    server.login('nourozkhawaja@gmial.com','xxxxxxxx')\n",
    "\n",
    "    subject=\"Testing email sendinng by Python code\"\n",
    "    body = \"Python Email send successfully\"\n",
    "    msg = f\"Subject:{subject}\\n\\n{body}\"\n",
    "    server.sendmail(\n",
    "        'nourozkhawaja@gmail.com',\n",
    "        msg\n",
    "    )"
   ]
  },
  {
   "cell_type": "code",
   "execution_count": 9,
   "id": "37358966-6c52-44f6-8b9e-871d22347aed",
   "metadata": {},
   "outputs": [],
   "source": [
    "#send_mail()"
   ]
  },
  {
   "cell_type": "code",
   "execution_count": null,
   "id": "d8b36c55-8db5-4f16-a707-b9d8562631bf",
   "metadata": {},
   "outputs": [],
   "source": []
  }
 ],
 "metadata": {
  "kernelspec": {
   "display_name": "Python 3 (ipykernel)",
   "language": "python",
   "name": "python3"
  },
  "language_info": {
   "codemirror_mode": {
    "name": "ipython",
    "version": 3
   },
   "file_extension": ".py",
   "mimetype": "text/x-python",
   "name": "python",
   "nbconvert_exporter": "python",
   "pygments_lexer": "ipython3",
   "version": "3.11.7"
  }
 },
 "nbformat": 4,
 "nbformat_minor": 5
}
