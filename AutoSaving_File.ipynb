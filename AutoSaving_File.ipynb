{
 "cells": [
  {
   "cell_type": "code",
   "execution_count": 52,
   "id": "34f16cd4-58ec-4708-9b84-c39e7753ff55",
   "metadata": {},
   "outputs": [],
   "source": [
    "import os, shutil"
   ]
  },
  {
   "cell_type": "code",
   "execution_count": 53,
   "id": "b27e8579-2748-43de-a367-1aca4bf9439c",
   "metadata": {},
   "outputs": [],
   "source": [
    "path = r\"C:/Python file short folder/\""
   ]
  },
  {
   "cell_type": "code",
   "execution_count": 54,
   "id": "64452b9d-03e1-4335-a33b-7aa4d4b60665",
   "metadata": {},
   "outputs": [],
   "source": [
    "filename = os.listdir(path)"
   ]
  },
  {
   "cell_type": "code",
   "execution_count": 55,
   "id": "5d1d5ae2-b5e8-451e-b5b7-225fbbca2573",
   "metadata": {},
   "outputs": [],
   "source": [
    "folder_names = ['CSV files', 'images files', 'text files','pdf']\n",
    "\n",
    "for loop in range(0,3):\n",
    "    if not os.path.exists(path+folder_names[loop]):\n",
    "        print(path+folder_names[loop])\n",
    "        os.makedirs(path+folder_names[loop])"
   ]
  },
  {
   "cell_type": "code",
   "execution_count": 56,
   "id": "9cb0b417-2430-4bba-80e1-450df60b9d37",
   "metadata": {},
   "outputs": [
    {
     "name": "stdout",
     "output_type": "stream",
     "text": [
      "This file type is not included\n",
      "This file type is not included\n",
      "This file type is not included\n",
      "This file type is not included\n"
     ]
    }
   ],
   "source": [
    "for file in filename: \n",
    "    if \".csv\" in file and not os.path.exists(path + \"csv files/\" + file):\n",
    "        shutil.move(path + file, path + \"csv files/\" + file)\n",
    "    elif \".png\" in file and not os.path.exists(path + \"image files/\" + file):\n",
    "        shutil.move(path + file, path + \"image files/\" + file)\n",
    "    elif \".txt\" in file and not os.path.exists(path+ \"txt files/\" + file):\n",
    "        shutil.move(path + file, path+ \"text files/\" + file)\n",
    "    elif \".docx\" in file and not os.path.exists(path+ \"docx files/\" + file):\n",
    "        shutil.move(path + file, path+ \"text files/\" + file) \n",
    "    ##elif \".pdf\" in file and not os.path.exists(path+ \"pdf files/\" + file):\n",
    "      ##  shutil.move(path + file, path+ \"pdf files/\" + file)\n",
    "    else:\n",
    "        print(\"This file type is not included\")\n",
    "        "
   ]
  },
  {
   "cell_type": "code",
   "execution_count": null,
   "id": "42cf5dad-2603-47fb-be16-d5f09fae7ea3",
   "metadata": {},
   "outputs": [],
   "source": []
  },
  {
   "cell_type": "code",
   "execution_count": null,
   "id": "a1eca243-79ce-4e7b-b3bd-c309e08024b5",
   "metadata": {},
   "outputs": [],
   "source": []
  },
  {
   "cell_type": "code",
   "execution_count": null,
   "id": "b0521aa8-57d6-4a5c-87f6-09c3a3abcb30",
   "metadata": {},
   "outputs": [],
   "source": []
  }
 ],
 "metadata": {
  "kernelspec": {
   "display_name": "Python 3 (ipykernel)",
   "language": "python",
   "name": "python3"
  },
  "language_info": {
   "codemirror_mode": {
    "name": "ipython",
    "version": 3
   },
   "file_extension": ".py",
   "mimetype": "text/x-python",
   "name": "python",
   "nbconvert_exporter": "python",
   "pygments_lexer": "ipython3",
   "version": "3.11.7"
  }
 },
 "nbformat": 4,
 "nbformat_minor": 5
}
